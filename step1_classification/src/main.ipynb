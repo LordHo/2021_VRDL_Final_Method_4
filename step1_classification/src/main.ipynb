{
 "cells": [
  {
   "cell_type": "code",
   "execution_count": 1,
   "metadata": {},
   "outputs": [
    {
     "name": "stdout",
     "output_type": "stream",
     "text": [
      "PyTorch Version: 1.8.0\n",
      "Torchvision Version: 0.9.0\n",
      "Train model name: swin_transformer_large_384\n",
      "Number of predict classes: 8\n",
      "Train batch size: 8\n",
      "Train epochs: 10\n",
      "Feature extract: True\n",
      "Initializing Datasets and Dataloaders...\n",
      "Device: cuda:0\n",
      "Params to learn:\n",
      "\t head.weight\n",
      "\t head.bias\n",
      "Optimizer: SGD, lr: 1.0e-03, weight_decay: 1.0e-04\n",
      "Loss function: Cross Entropy\n",
      "Epoch 0/9\n",
      "----------\n",
      "train Loss: 1.5610 Acc: 0.6465\n",
      "val Loss: 1.1535 Acc: 0.7368\n",
      "\n",
      "Epoch 1/9\n",
      "----------\n",
      "train Loss: 1.0748 Acc: 0.7621\n",
      "val Loss: 0.9541 Acc: 0.7684\n",
      "\n",
      "Epoch 2/9\n",
      "----------\n",
      "train Loss: 0.9232 Acc: 0.8063\n",
      "val Loss: 0.9143 Acc: 0.8211\n",
      "\n",
      "Epoch 3/9\n",
      "----------\n",
      "train Loss: 0.8124 Acc: 0.8346\n",
      "val Loss: 0.9126 Acc: 0.7921\n",
      "\n",
      "Epoch 4/9\n",
      "----------\n",
      "train Loss: 0.7698 Acc: 0.8410\n",
      "val Loss: 0.8878 Acc: 0.8132\n",
      "\n",
      "Epoch 5/9\n",
      "----------\n",
      "train Loss: 0.7178 Acc: 0.8505\n",
      "val Loss: 0.7737 Acc: 0.8289\n",
      "\n",
      "Epoch 6/9\n",
      "----------\n",
      "train Loss: 0.6798 Acc: 0.8640\n",
      "val Loss: 0.7142 Acc: 0.8579\n",
      "\n",
      "Epoch 7/9\n",
      "----------\n",
      "train Loss: 0.6577 Acc: 0.8649\n",
      "val Loss: 0.8680 Acc: 0.8368\n",
      "\n",
      "Epoch 8/9\n",
      "----------\n",
      "train Loss: 0.6275 Acc: 0.8725\n",
      "val Loss: 0.7886 Acc: 0.8368\n",
      "\n",
      "Epoch 9/9\n",
      "----------\n",
      "train Loss: 0.5978 Acc: 0.8796\n",
      "val Loss: 0.7087 Acc: 0.8553\n",
      "\n",
      "Training complete in 21m 2s\n",
      "Best val Acc: 0.857895\n",
      "Model store path: ..\\model\\2021-12-23 13-41-48\\swin_transformer_large_384_2021-12-23 13-41-48.pkl\n"
     ]
    }
   ],
   "source": [
    "from train import train\n",
    "train()"
   ]
  },
  {
   "cell_type": "code",
   "execution_count": 1,
   "metadata": {},
   "outputs": [
    {
     "name": "stderr",
     "output_type": "stream",
     "text": [
      "100%|██████████| 1000/1000 [00:40<00:00, 24.85it/s]\n"
     ]
    }
   ],
   "source": [
    "from eval import eval\n",
    "eval(stage=1)"
   ]
  }
 ],
 "metadata": {
  "interpreter": {
   "hash": "e8a6c730e71821776e657309ae973742596c94e7cac07757125fd1c63e4b1293"
  },
  "kernelspec": {
   "display_name": "Python 3.7.11 64-bit ('VRDL_Final': conda)",
   "language": "python",
   "name": "python3"
  },
  "language_info": {
   "codemirror_mode": {
    "name": "ipython",
    "version": 3
   },
   "file_extension": ".py",
   "mimetype": "text/x-python",
   "name": "python",
   "nbconvert_exporter": "python",
   "pygments_lexer": "ipython3",
   "version": "3.7.11"
  },
  "orig_nbformat": 4
 },
 "nbformat": 4,
 "nbformat_minor": 2
}
